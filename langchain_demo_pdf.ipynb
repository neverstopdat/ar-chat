{
 "cells": [
  {
   "cell_type": "code",
   "execution_count": 1,
   "id": "218ecb7c-60dd-4ca9-824e-02cff8da9a55",
   "metadata": {},
   "outputs": [],
   "source": [
    "from PyPDF2 import PdfReader\n",
    "from langchain.embeddings.openai import OpenAIEmbeddings\n",
    "from langchain.text_splitter import CharacterTextSplitter\n",
    "from langchain.vectorstores import FAISS\n",
    "from langchain.chains.question_answering import load_qa_chain\n",
    "#from langchain.llms import OpenAI\n",
    "from langchain_openai import OpenAI\n",
    "from langchain_openai import OpenAIEmbeddings"
   ]
  },
  {
   "cell_type": "code",
   "execution_count": 2,
   "id": "1a7016bf-d9c4-4e55-a6c5-5c41c66d4fa3",
   "metadata": {},
   "outputs": [],
   "source": [
    "import os\n",
    "OPENAI_API_KEY = os.getenv(\"OPENAI_API_KEY\")"
   ]
  },
  {
   "cell_type": "code",
   "execution_count": 3,
   "id": "942e3362-82a2-4757-8ddc-3f93667dacd0",
   "metadata": {},
   "outputs": [
    {
     "name": "stdout",
     "output_type": "stream",
     "text": [
      "\n",
      "\n",
      "It is not possible to accurately answer this question without more information. \"Leo demo123\" could refer to many different people. Additionally, the age of this person would depend on who they are and when they were born.\n"
     ]
    }
   ],
   "source": [
    "# Initialize the LLM with the specific model\n",
    "llm = OpenAI(model_name=\"gpt-3.5-turbo-instruct\")\n",
    "\n",
    "# Define your query\n",
    "our_query = \"Who is Leo demo123? and how old is he?\"\n",
    "\n",
    "# Use the invoke method instead of the __call__ method\n",
    "response = llm.invoke(our_query)\n",
    "\n",
    "# Print the response\n",
    "print(response)"
   ]
  },
  {
   "cell_type": "code",
   "execution_count": 4,
   "id": "e1953eed-1475-4de9-9ca1-73cd589b5dd3",
   "metadata": {},
   "outputs": [],
   "source": [
    "# LLM call with our PDF as reference\n",
    "data = PdfReader('/data/my-doc/The_whisperer.pdf')"
   ]
  },
  {
   "cell_type": "code",
   "execution_count": 5,
   "id": "0e51e8eb-22f4-490d-a7a3-06aa8c045da7",
   "metadata": {},
   "outputs": [
    {
     "data": {
      "text/plain": [
       "\"The\\nWhisperer\\nof\\nthe\\nCity:\\nLeo's\\nUnifying\\nTale\\nO n c e\\nu p o n\\na\\nt i m e ,\\ni n\\na\\nb u s t l i n g\\nc i t y\\na d o r n e d\\nw i t h\\nn e o n\\nl i g h t s\\na n d\\na n\\ne n d l e s s\\nc a c o p h o n y ,\\nl i v e d\\na\\nm a n\\nn a m e d\\nL e o\\nd e m o 1 2 3 .\\nL e o ,\\na t\\nt h e\\na g e\\no f\\n3 5 ,\\nw a s\\ne x t r a o r d i n a r y ,\\ng i f t e d\\nw i t h\\nt h e\\nr a r e\\na b i l i t y\\nt o\\nu n d e r s t a n d\\na n d\\nc o m m u n i c a t e\\nw i t h\\nt h e\\nc i t y ' s\\na n i m a l s .\\nE a c h\\nm o r n i n g ,\\nh e\\ns t r o l l e d\\nt h r o u g h\\nt h e\\np a r k ,\\ns h a r i n g\\nw e a t h e r\\nf o r e c a s t s\\nw i t h\\nt h e\\ns p a r r o w s\\na n d\\ne x c h a n g i n g\\nt h e\\nl a t e s t\\nc i t y\\nt a l e s\\nw i t h\\nt h e\\ns t r a y\\nc a t s .\\nO n e\\ns e r e n e\\ne v e n i n g ,\\na s\\nt h e\\nc i t y\\nd i p p e d\\ni n t o\\ns l u m b e r ,\\na\\nt r o u b l e d\\no w l\\ns o u g h t\\nL e o ' s\\na i d .\\nI t s\\nh o m e\\nw a s\\nt h r e a t e n e d\\nb y\\na\\nl o o m i n g\\nc o n s t r u c t i o n\\np r o j e c t .\\nL e o ,\\nw i t h\\na\\nh e a r t\\na s\\nv a s t\\na s\\nh i s\\ni m a g i n a t i o n ,\\ns e t\\no f f\\no n\\na\\nd a r i n g\\nm i s s i o n .\\nH e\\nb r o u g h t\\nt o g e t h e r\\nt h e\\nv o i c e s\\no f\\nb o t h\\nt h e\\nc i t y ' s\\na n i m a l s\\na n d\\ni t s\\np e o p l e ,\\nc r e a t i n g\\na\\nh a r m o n i o u s\\na p p e a l\\nt h a t\\nr e s o n a t e d\\na m i d s t\\nt h e\\nt o w e r i n g\\ns k y s c r a p e r s .\\nM i r a c u l o u s l y ,\\nt h e i r\\nu n i ﬁ e d\\ne f f o r t s\\nt r i u m p h e d ,\\ns a v i n g\\nt h e\\np a r k .\\nN e w s\\no f\\nt h i s\\nr e m a r k a b l e\\nf e a t\\ns p r e a d\\nf a r\\na n d\\nw i d e ,\\ne a r n i n g\\n3 5 - y e a r - o l d\\nL e o\\nn o t\\nj u s t\\no n e ,\\nb u t\\nﬁ v e\\np r e s t i g i o u s\\na w a r d s\\nf o r\\nh i s\\ne n v i r o n m e n t a l\\na c t i v i s m ,\\nc o m m u n i t y\\ne n g a g e m e n t ,\\ni n n o v a t i v e\\nc o m m u n i c a t i o n ,\\nu r b a n\\nw i l d l i f e\\nc o n s e r v a t i o n ,\\na n d ,\\nm o s t\\ni m p o r t a n t l y ,\\nf o r\\nf o s t e r i n g\\nu n p a r a l l e l e d\\nu n i t y\\ni n\\nt h e\\nc i t y .\\nL e o\\nb e c a m e\\nn o t\\nj u s t\\na\\nh e r o\\nt o\\nt h e\\na n i m a l s ,\\nb u t\\na n\\ne m b l e m\\no f\\nh o p e\\na n d\\nt h e\\nm a g i c a l\\np o w e r\\no f\\nu n i t y ,\\nc e l e b r a t e d\\nb y\\na l l\\nw h o\\nc h e r i s h e d\\nt h e\\nh e a r t b e a t\\no f\\nt h e i r\\nv i b r a n t\\nc i t y .\""
      ]
     },
     "execution_count": 5,
     "metadata": {},
     "output_type": "execute_result"
    }
   ],
   "source": [
    "combined_text = ''\n",
    "for i, page in enumerate(data.pages):\n",
    "  text = page.extract_text()\n",
    "  if text:\n",
    "    combined_text += text\n",
    "combined_text"
   ]
  },
  {
   "cell_type": "code",
   "execution_count": 6,
   "id": "d965e313-9bc7-4aa7-9cff-325146550ccc",
   "metadata": {},
   "outputs": [],
   "source": [
    "text_splitter = CharacterTextSplitter(\n",
    "    separator='\\n',\n",
    "    chunk_size=200,\n",
    "    chunk_overlap=20,\n",
    "    length_function = len,\n",
    ")\n"
   ]
  },
  {
   "cell_type": "code",
   "execution_count": 7,
   "id": "a347fade-1522-40bd-9814-9994a4660f1e",
   "metadata": {},
   "outputs": [
    {
     "data": {
      "text/plain": [
       "12"
      ]
     },
     "execution_count": 7,
     "metadata": {},
     "output_type": "execute_result"
    }
   ],
   "source": [
    "finalData = text_splitter.split_text(combined_text)\n",
    "len(finalData)\n"
   ]
  },
  {
   "cell_type": "code",
   "execution_count": 8,
   "id": "712a129d-28d7-4443-a84c-20421215a1ba",
   "metadata": {},
   "outputs": [],
   "source": [
    "embeddings = OpenAIEmbeddings(openai_api_key=OPENAI_API_KEY)"
   ]
  },
  {
   "cell_type": "code",
   "execution_count": 9,
   "id": "8aae6c1c-4f96-4bcb-b27c-e27421adfd7a",
   "metadata": {},
   "outputs": [],
   "source": [
    "documentsearch = FAISS.from_texts(finalData, embeddings)\n",
    "chain = load_qa_chain(OpenAI(),chain_type=\"stuff\")"
   ]
  },
  {
   "cell_type": "code",
   "execution_count": 10,
   "id": "4eae6ea8-2b52-421d-aeb1-3c422469e159",
   "metadata": {},
   "outputs": [
    {
     "name": "stdout",
     "output_type": "stream",
     "text": [
      "\n",
      "Leo demo123 is a man named Leo who was extraordinary and gifted with the rare ability to understand and dip into slumber. He was 35 years old and received five prestigious awards for his environmental feat. He was sought after for his aid by a troubled owl whose home was threatened by a looming construction project.\n"
     ]
    }
   ],
   "source": [
    "our_query = \"Who is Leo demo123? and how old is he?\"\n",
    "\n",
    "docs = documentsearch.similarity_search(our_query)\n",
    "response = chain.invoke(input={'input_documents': docs, 'question': our_query})\n",
    "\n",
    "# Print the response\n",
    "print(response['output_text'])\n"
   ]
  },
  {
   "cell_type": "code",
   "execution_count": null,
   "id": "2ca4e62c-c712-4d14-8ff9-cdc6d4ee9972",
   "metadata": {},
   "outputs": [],
   "source": []
  }
 ],
 "metadata": {
  "kernelspec": {
   "display_name": "Python 3 (ipykernel)",
   "language": "python",
   "name": "python3"
  },
  "language_info": {
   "codemirror_mode": {
    "name": "ipython",
    "version": 3
   },
   "file_extension": ".py",
   "mimetype": "text/x-python",
   "name": "python",
   "nbconvert_exporter": "python",
   "pygments_lexer": "ipython3",
   "version": "3.10.13"
  }
 },
 "nbformat": 4,
 "nbformat_minor": 5
}
